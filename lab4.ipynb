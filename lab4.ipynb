{
 "cells": [
  {
   "cell_type": "markdown",
   "metadata": {},
   "source": [
    "# Laboratory work 4"
   ]
  },
  {
   "cell_type": "markdown",
   "metadata": {},
   "source": [
    "Topic: Decision-making based on fuzzy preference relations"
   ]
  },
  {
   "cell_type": "code",
   "execution_count": 29,
   "metadata": {},
   "outputs": [],
   "source": [
    "import numpy as np\n",
    "import pandas as pd"
   ]
  },
  {
   "cell_type": "code",
   "execution_count": 30,
   "metadata": {},
   "outputs": [],
   "source": [
    "def print_matrix(matrix):\n",
    "\n",
    "    n = matrix.shape[0]\n",
    "    alternatives = [f\"x{i+1}\" for i in range(n)]\n",
    "    df = pd.DataFrame(matrix, index=alternatives, columns=alternatives)\n",
    "    print(df.round(2))"
   ]
  },
  {
   "cell_type": "code",
   "execution_count": 31,
   "metadata": {},
   "outputs": [],
   "source": [
    "R1 = np.array([\n",
    "    [1, 0.9, 0.8, 0.7, 1],\n",
    "    [0.6, 1, 0.7, 0.3, 0.7],\n",
    "    [0.3, 0.0, 0.2, 0.5, 0.1],\n",
    "    [0.3, 0.5, 0.3, 1, 0.4],\n",
    "    [0.3, 0.6, 0.5, 0.7, 1]\n",
    "])\n",
    "\n",
    "R2 = np.array([\n",
    "    [1, 0.0, 1, 0.0, 0.6],\n",
    "    [0.1, 1, 0.5, 0.4, 0.3],\n",
    "    [0.5, 0.7, 1, 0.0, 0.7],\n",
    "    [0.5, 0.3, 0.0, 1, 0.7],\n",
    "    [0.7, 0.9, 0.8, 0.5, 1]\n",
    "])\n",
    "\n",
    "\n",
    "lambda1 = 0.2\n",
    "lambda2 = 0.8"
   ]
  },
  {
   "cell_type": "markdown",
   "metadata": {},
   "source": [
    "$$\n",
    "Q_1 = \\lambda_1 R_1 \\cap \\lambda_2 R_2\n",
    "$$\n"
   ]
  },
  {
   "cell_type": "code",
   "execution_count": 32,
   "metadata": {},
   "outputs": [
    {
     "name": "stdout",
     "output_type": "stream",
     "text": [
      "Q1:\n",
      "     x1   x2   x3   x4   x5\n",
      "x1  1.0  0.0  0.8  0.0  0.6\n",
      "x2  0.1  1.0  0.5  0.3  0.3\n",
      "x3  0.3  0.0  0.2  0.0  0.1\n",
      "x4  0.3  0.3  0.0  1.0  0.4\n",
      "x5  0.3  0.6  0.5  0.5  1.0\n"
     ]
    }
   ],
   "source": [
    "Q1 = np.minimum(R1, R2)\n",
    "\n",
    "print(\"Q1:\")\n",
    "print_matrix(Q1)\n"
   ]
  },
  {
   "cell_type": "markdown",
   "metadata": {},
   "source": [
    "відношення строгої переваги"
   ]
  },
  {
   "cell_type": "code",
   "execution_count": 33,
   "metadata": {},
   "outputs": [
    {
     "name": "stdout",
     "output_type": "stream",
     "text": [
      "     x1   x2   x3   x4   x5\n",
      "x1  0.0  0.0  0.5  0.0  0.3\n",
      "x2  0.1  0.0  0.5  0.0  0.0\n",
      "x3  0.0  0.0  0.0  0.0  0.0\n",
      "x4  0.3  0.0  0.0  0.0  0.0\n",
      "x5  0.0  0.3  0.4  0.1  0.0\n"
     ]
    }
   ],
   "source": [
    "Q1_strict = np.maximum(Q1 - Q1.T, 0)\n",
    "\n",
    "print_matrix(Q1_strict)\n"
   ]
  },
  {
   "cell_type": "markdown",
   "metadata": {},
   "source": [
    "функція належності"
   ]
  },
  {
   "cell_type": "code",
   "execution_count": 34,
   "metadata": {},
   "outputs": [
    {
     "name": "stdout",
     "output_type": "stream",
     "text": [
      "[0.7 0.7 0.5 0.9 0.7]\n"
     ]
    }
   ],
   "source": [
    "Q1_dom = 1 - np.max(Q1_strict, axis=0)\n",
    "\n",
    "print(Q1_dom)"
   ]
  },
  {
   "cell_type": "markdown",
   "metadata": {},
   "source": [
    "$$\n",
    "Q_2 = \\lambda_1 \\mu_1(x_i, x_j) + \\lambda_2 \\mu_2(x_i, x_j)\n",
    "$$\n"
   ]
  },
  {
   "cell_type": "code",
   "execution_count": 35,
   "metadata": {},
   "outputs": [
    {
     "name": "stdout",
     "output_type": "stream",
     "text": [
      "      x1    x2    x3    x4    x5\n",
      "x1  1.00  0.18  0.96  0.14  0.68\n",
      "x2  0.20  1.00  0.54  0.38  0.38\n",
      "x3  0.46  0.56  0.84  0.10  0.58\n",
      "x4  0.46  0.34  0.06  1.00  0.64\n",
      "x5  0.62  0.84  0.74  0.54  1.00\n"
     ]
    }
   ],
   "source": [
    "Q2 = lambda1 * R1 + lambda2 * R2\n",
    "\n",
    "print_matrix(Q2)"
   ]
  },
  {
   "cell_type": "markdown",
   "metadata": {},
   "source": [
    "відношення строгої переваги"
   ]
  },
  {
   "cell_type": "code",
   "execution_count": 36,
   "metadata": {},
   "outputs": [
    {
     "name": "stdout",
     "output_type": "stream",
     "text": [
      "      x1    x2    x3    x4    x5\n",
      "x1  1.00  0.18  0.96  0.14  0.68\n",
      "x2  0.20  1.00  0.54  0.38  0.38\n",
      "x3  0.46  0.56  0.84  0.10  0.58\n",
      "x4  0.46  0.34  0.06  1.00  0.64\n",
      "x5  0.62  0.84  0.74  0.54  1.00\n"
     ]
    }
   ],
   "source": [
    "Q2_strict = np.maximum(Q2 - Q2.T, 0)\n",
    "\n",
    "print_matrix(Q2)\n"
   ]
  },
  {
   "cell_type": "markdown",
   "metadata": {},
   "source": [
    "функція належності до нечіткої підмножини недомінованих альтернатив"
   ]
  },
  {
   "cell_type": "code",
   "execution_count": 37,
   "metadata": {},
   "outputs": [
    {
     "name": "stdout",
     "output_type": "stream",
     "text": [
      "[0.68 0.54 0.5  0.96 0.9 ]\n"
     ]
    }
   ],
   "source": [
    "Q2_dom = 1 - np.max(Q2_strict, axis=0)\n",
    "\n",
    "print(Q2_dom)"
   ]
  },
  {
   "cell_type": "code",
   "execution_count": 38,
   "metadata": {},
   "outputs": [
    {
     "name": "stdout",
     "output_type": "stream",
     "text": [
      "[0.68 0.54 0.5  0.9  0.7 ]\n"
     ]
    }
   ],
   "source": [
    "Q_final_dom = np.minimum(Q1_dom, Q2_dom)\n",
    "\n",
    "print( Q_final_dom)"
   ]
  },
  {
   "cell_type": "code",
   "execution_count": 39,
   "metadata": {},
   "outputs": [
    {
     "name": "stdout",
     "output_type": "stream",
     "text": [
      "Раціональна альтернатива: x4\n"
     ]
    }
   ],
   "source": [
    "best_index = np.argmax(Q_final_dom)\n",
    "best_alternative = f\"x{best_index + 1}\"\n",
    "\n",
    "print(\"Раціональна альтернатива:\", best_alternative)"
   ]
  }
 ],
 "metadata": {
  "kernelspec": {
   "display_name": "envCV",
   "language": "python",
   "name": "python3"
  },
  "language_info": {
   "codemirror_mode": {
    "name": "ipython",
    "version": 3
   },
   "file_extension": ".py",
   "mimetype": "text/x-python",
   "name": "python",
   "nbconvert_exporter": "python",
   "pygments_lexer": "ipython3",
   "version": "3.13.1"
  },
  "orig_nbformat": 4
 },
 "nbformat": 4,
 "nbformat_minor": 2
}
