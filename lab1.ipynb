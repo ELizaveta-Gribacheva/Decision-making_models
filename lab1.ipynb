{
 "cells": [
  {
   "cell_type": "markdown",
   "metadata": {},
   "source": [
    "# Labortory work 1"
   ]
  },
  {
   "cell_type": "code",
   "execution_count": 85,
   "metadata": {},
   "outputs": [],
   "source": [
    "import numpy as np"
   ]
  },
  {
   "cell_type": "markdown",
   "metadata": {},
   "source": [
    "topic: Binary relationships\n",
    "\n",
    "Objective: to study the properties of binary relations, operations on relations, to acquire skills of decision-making based on given\n",
    "relations"
   ]
  },
  {
   "cell_type": "markdown",
   "metadata": {},
   "source": [
    "## постановка індивідуального завдання;"
   ]
  },
  {
   "cell_type": "markdown",
   "metadata": {},
   "source": [
    "Перевірити, чи буде дане відношення рефлексивним, антирефлексивним,\n",
    "симетричним, антисиметричним, асиметричним, транзитивним. Відшукати\n",
    "для нього найбільший, найменший , максимальний та мінімальний елементи,\n",
    "якщо такі існують, і побудувати обернене й додаткове відношення."
   ]
  },
  {
   "cell_type": "code",
   "execution_count": 86,
   "metadata": {},
   "outputs": [],
   "source": [
    "R = np.array(\n",
    "    [\n",
    "        [1, 1, 1, 1, 0],\n",
    "        [1, 1, 0, 0, 1],\n",
    "        [1, 0, 1, 1, 1],\n",
    "        [1, 0, 1, 1, 1],\n",
    "        [0, 1, 0, 0, 0]\n",
    "    ]\n",
    ")"
   ]
  },
  {
   "cell_type": "markdown",
   "metadata": {},
   "source": [
    "## Relationship and tasks"
   ]
  },
  {
   "cell_type": "markdown",
   "metadata": {},
   "source": [
    "не має найкращих елементів "
   ]
  },
  {
   "cell_type": "markdown",
   "metadata": {},
   "source": [
    "- Відношення R називається рефлексивним, якщо x R x для будь-якого елемента x∈Ω.\n",
    "У матриці рефлексивного відношення на головній діагоналі розміщуються одиниці, тобто елемент матриці aij = ,1 якщо i = j ."
   ]
  },
  {
   "cell_type": "markdown",
   "metadata": {},
   "source": [
    "- Відношення R називається антирефлексивним, коли\n",
    "твердження x R y означає, що x ≠ y ∀ ∈x Ω.\n",
    "- У матриці антирефлексивного відношення елементи головної діагоналі\n",
    "дорівнюють нулю, тобто aij = ,0 якщо i = j ."
   ]
  },
  {
   "cell_type": "code",
   "execution_count": 87,
   "metadata": {},
   "outputs": [],
   "source": [
    "ref = []\n",
    "def reflexion(R):\n",
    "    for i in range(len(R)):\n",
    "        ref.append(R[i][i])\n",
    "    result_reflexion = ref[1:] == ref[:-1] and ref[1] == 1\n",
    "    result_anti_reflexion = ref[1:] == ref[:-1] and ref[1] == 0\n",
    "    return f\" Відношення є рефлексивним: {result_reflexion}, відношення є антирефлексивним: {result_anti_reflexion}\""
   ]
  },
  {
   "cell_type": "code",
   "execution_count": 88,
   "metadata": {},
   "outputs": [
    {
     "data": {
      "text/plain": [
       "' Відношення є рефлексивним: False, відношення є антирефлексивним: False'"
      ]
     },
     "execution_count": 88,
     "metadata": {},
     "output_type": "execute_result"
    }
   ],
   "source": [
    "reflexion(R)"
   ]
  },
  {
   "cell_type": "markdown",
   "metadata": {},
   "source": [
    "- Відношення R називається асиметричним, якщо\n",
    "= ∅ −1  RR (тобто з двох виразів x R y та y R x хоча б один не відповідає\n",
    "дійсності).\n",
    "\n",
    "- У матриці симетричного відношення 0 aa jiij = 0 для всіх значень i, j.\n",
    "Інакше кажучи, з двох симетричних елементів aij і a ji хоча б один обов’язково\n",
    "дорівнює 0.\n",
    "\n",
    "- Відношення R називається антисиметричним,\n",
    "якщо твердження x R y та y R x можуть бути правильними одночасно тоді й\n",
    "тільки тоді, коли x = y.\n",
    "- У матриці антисиметричного відношення 0 aa jiij =∧ , коли i ≠ j ."
   ]
  },
  {
   "cell_type": "code",
   "execution_count": 89,
   "metadata": {},
   "outputs": [],
   "source": [
    "def sym(R):\n",
    "    sym, antysym, asym = True, True, True\n",
    "\n",
    "    for i in range(len(R)):\n",
    "        for j in range(len(R[0])):\n",
    "            if R[i][j] != R[j][i]:\n",
    "                sym = False\n",
    "            if i != j and R[i][j] == 1 == R[j][i]:\n",
    "                antysym = False\n",
    "            if R[i][j] ==  R[j][i] == 1:\n",
    "                asym = False\n",
    "    return f\" Відношення є симетричним : {sym}, відношення є антисиметричним: {antysym}, відношення є асиметричним: {asym}\""
   ]
  },
  {
   "cell_type": "code",
   "execution_count": 90,
   "metadata": {},
   "outputs": [
    {
     "data": {
      "text/plain": [
       "' Відношення є симетричним : False, відношення є антисиметричним: False, відношення є асиметричним: False'"
      ]
     },
     "execution_count": 90,
     "metadata": {},
     "output_type": "execute_result"
    }
   ],
   "source": [
    "sym(R)"
   ]
  },
  {
   "cell_type": "markdown",
   "metadata": {},
   "source": [
    "- Відношення R називається транзитивним, якщо\n",
    "2 R R £ ( тобто, коли з тверджень x R z та z R y випливає, що x R y ).\n",
    "Транзитивними є відношення «більше або дорівнює», «менше», «бути\n",
    "старшим», «вчитися в одній групі».\n"
   ]
  },
  {
   "cell_type": "code",
   "execution_count": 91,
   "metadata": {},
   "outputs": [],
   "source": [
    "def transitive(R):\n",
    "    r_2 = R@R\n",
    "    result = True\n",
    "    for i in range(len(R)):\n",
    "        for j in range(len(R[0])):\n",
    "            if r_2[i][j] > R[i][j]:\n",
    "                result = False\n",
    "    return f\" Відношення є транзитивним : {result}\""
   ]
  },
  {
   "cell_type": "code",
   "execution_count": 92,
   "metadata": {},
   "outputs": [
    {
     "data": {
      "text/plain": [
       "' Відношення є транзитивним : False'"
      ]
     },
     "execution_count": 92,
     "metadata": {},
     "output_type": "execute_result"
    }
   ],
   "source": [
    "transitive(R)"
   ]
  },
  {
   "cell_type": "markdown",
   "metadata": {},
   "source": [
    "- Для визначення максимальних і мінімальних елементів побудуємо строге\n",
    "відношення, відповідне даному,"
   ]
  },
  {
   "cell_type": "code",
   "execution_count": 93,
   "metadata": {},
   "outputs": [],
   "source": [
    "def min_max(R):\n",
    "    R_S = ((R - np.transpose(R))>0)*1\n",
    "    print(R_S)\n",
    "\n",
    "    max, min = [], []\n",
    "\n",
    "    for i in range(R.shape[0]):\n",
    "        if (R_S[i]==0).all():\n",
    "            min.append(i+1)\n",
    "\n",
    "    for i in range(R.shape[0]):\n",
    "        if (R_S[..., i]==0).all():\n",
    "            max.append(i+1)\n",
    "\n",
    "    return min, max"
   ]
  },
  {
   "cell_type": "code",
   "execution_count": 94,
   "metadata": {},
   "outputs": [
    {
     "name": "stdout",
     "output_type": "stream",
     "text": [
      "[[0 0 0 0 0]\n",
      " [0 0 0 0 0]\n",
      " [0 0 0 0 1]\n",
      " [0 0 0 0 1]\n",
      " [0 0 0 0 0]]\n"
     ]
    },
    {
     "data": {
      "text/plain": [
       "([1, 2, 5], [1, 2, 3, 4])"
      ]
     },
     "execution_count": 94,
     "metadata": {},
     "output_type": "execute_result"
    }
   ],
   "source": [
    "min_max(R)"
   ]
  },
  {
   "cell_type": "code",
   "execution_count": 95,
   "metadata": {},
   "outputs": [],
   "source": [
    "def larg_tin(R):\n",
    "    larg = \"-\"\n",
    "    tiny = \"-\"\n",
    "\n",
    "    for i in range(R.shape[0]):\n",
    "        if (R[i]==1).all():\n",
    "            larg = i+1\n",
    "\n",
    "    for i in range(R.shape[0]):\n",
    "        if (R[..., i]==1).all():\n",
    "            tiny = i+1\n",
    "\n",
    "    return f'Найбільший елемент: {larg}, найменший елемент: {tiny}'"
   ]
  },
  {
   "cell_type": "code",
   "execution_count": 96,
   "metadata": {},
   "outputs": [
    {
     "data": {
      "text/plain": [
       "'Найбільший елемент: -, найменший елемент: -'"
      ]
     },
     "execution_count": 96,
     "metadata": {},
     "output_type": "execute_result"
    }
   ],
   "source": [
    "larg_tin(R)"
   ]
  },
  {
   "cell_type": "markdown",
   "metadata": {},
   "source": [
    "### обернена та доповнена матриці"
   ]
  },
  {
   "cell_type": "code",
   "execution_count": 97,
   "metadata": {},
   "outputs": [],
   "source": [
    "def reverse(R):\n",
    "    result = [[0] * len(R) for _ in range(len(R))]\n",
    "\n",
    "    for i in range(len(R)):\n",
    "        for j in range(len(R[0])):\n",
    "            result[j][i] = R[i][j]\n",
    "\n",
    "    return result"
   ]
  },
  {
   "cell_type": "code",
   "execution_count": 98,
   "metadata": {},
   "outputs": [],
   "source": [
    "def print_matrix(R):\n",
    "    for i in R:\n",
    "        print(\" \".join(str(x) for x in i))"
   ]
  },
  {
   "cell_type": "code",
   "execution_count": 99,
   "metadata": {},
   "outputs": [
    {
     "name": "stdout",
     "output_type": "stream",
     "text": [
      "1 1 1 1 0\n",
      "1 1 0 0 1\n",
      "1 0 1 1 0\n",
      "1 0 1 1 0\n",
      "0 1 1 1 0\n"
     ]
    }
   ],
   "source": [
    "print_matrix(reverse(R))"
   ]
  },
  {
   "cell_type": "code",
   "execution_count": 100,
   "metadata": {},
   "outputs": [],
   "source": [
    "def complemen(R):\n",
    "    result = []\n",
    "    for i in range(len(R)):\n",
    "        row = []  \n",
    "        for j in range(len(R)):  \n",
    "            if R[i][j] == 0:\n",
    "                row.append(1) \n",
    "            else:\n",
    "                row.append(0)  \n",
    "        result.append(row) \n",
    "    return result"
   ]
  },
  {
   "cell_type": "code",
   "execution_count": 101,
   "metadata": {},
   "outputs": [
    {
     "name": "stdout",
     "output_type": "stream",
     "text": [
      "0 0 0 0 1\n",
      "0 0 1 1 0\n",
      "0 1 0 0 0\n",
      "0 1 0 0 0\n",
      "1 0 1 1 1\n"
     ]
    }
   ],
   "source": [
    "print_matrix(complemen(R))"
   ]
  }
 ],
 "metadata": {
  "kernelspec": {
   "display_name": "envCV",
   "language": "python",
   "name": "python3"
  },
  "language_info": {
   "codemirror_mode": {
    "name": "ipython",
    "version": 3
   },
   "file_extension": ".py",
   "mimetype": "text/x-python",
   "name": "python",
   "nbconvert_exporter": "python",
   "pygments_lexer": "ipython3",
   "version": "3.13.1"
  },
  "orig_nbformat": 4
 },
 "nbformat": 4,
 "nbformat_minor": 2
}
