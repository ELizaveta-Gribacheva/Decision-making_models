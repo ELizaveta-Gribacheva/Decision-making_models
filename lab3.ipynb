{
 "cells": [
  {
   "cell_type": "markdown",
   "metadata": {},
   "source": [
    "# Laboratory work 3"
   ]
  },
  {
   "cell_type": "markdown",
   "metadata": {},
   "source": [
    "Topic: Solving fuzzy mathematical programming problems"
   ]
  },
  {
   "cell_type": "code",
   "execution_count": 6,
   "metadata": {},
   "outputs": [],
   "source": [
    "import numpy as np\n",
    "from scipy.optimize import linprog\n",
    "import pandas as pd"
   ]
  },
  {
   "cell_type": "code",
   "execution_count": 7,
   "metadata": {},
   "outputs": [],
   "source": [
    "def solve_lp(A_ub, b_ub):\n",
    "    c = [-2, -5] \n",
    "    bounds = [(0, None), (0, None)]\n",
    "    result = linprog(c, A_ub=A_ub, b_ub=b_ub, bounds=bounds, method='highs')\n",
    "    \n",
    "    if result.success:\n",
    "        x = result.x\n",
    "        f_val = -result.fun  \n",
    "        return x, f_val\n",
    "    else:\n",
    "        return None, None"
   ]
  },
  {
   "cell_type": "markdown",
   "metadata": {},
   "source": [
    "### coefficients for each level of uncertainty"
   ]
  },
  {
   "cell_type": "code",
   "execution_count": 8,
   "metadata": {},
   "outputs": [],
   "source": [
    "levels = {\n",
    "    1.0: {\n",
    "        \"A_ub\": [\n",
    "            [-2, -3],   \n",
    "            [1, 6],      \n",
    "            [2, 3]        \n",
    "        ],\n",
    "        \"b_ub\": [-6, 18, 12]\n",
    "    },\n",
    "    0.7: {\n",
    "        \"A_ub\": [\n",
    "            [-2, -3],    \n",
    "            [1, 6],\n",
    "            [2, 3]\n",
    "        ],\n",
    "        \"b_ub\": [-5, 19, 13]\n",
    "    },\n",
    "    0.5: {\n",
    "        \"A_ub\": [\n",
    "            [-2, -3],    \n",
    "            [1, 6],\n",
    "            [2, 3]\n",
    "        ],\n",
    "        \"b_ub\": [-4, 20, 14]\n",
    "    }\n",
    "}\n"
   ]
  },
  {
   "cell_type": "markdown",
   "metadata": {},
   "source": [
    "### result"
   ]
  },
  {
   "cell_type": "code",
   "execution_count": 9,
   "metadata": {},
   "outputs": [],
   "source": [
    "results = []\n",
    "for level, data in levels.items():\n",
    "    x, fval = solve_lp(data[\"A_ub\"], data[\"b_ub\"])\n",
    "    results.append({\n",
    "        \"λ\": level,\n",
    "        \"x1\": x[0] if x is not None else None,\n",
    "        \"x2\": x[1] if x is not None else None,\n",
    "        \"f(x)\": fval\n",
    "    })"
   ]
  },
  {
   "cell_type": "code",
   "execution_count": 10,
   "metadata": {},
   "outputs": [
    {
     "name": "stdout",
     "output_type": "stream",
     "text": [
      "     λ        x1        x2       f(x)\n",
      "0  1.0  2.000000  2.666667  17.333333\n",
      "1  0.7  2.333333  2.777778  18.555556\n",
      "2  0.5  2.666667  2.888889  19.777778\n"
     ]
    }
   ],
   "source": [
    "df = pd.DataFrame(results)\n",
    "print(df)"
   ]
  }
 ],
 "metadata": {
  "kernelspec": {
   "display_name": "envCV",
   "language": "python",
   "name": "python3"
  },
  "language_info": {
   "codemirror_mode": {
    "name": "ipython",
    "version": 3
   },
   "file_extension": ".py",
   "mimetype": "text/x-python",
   "name": "python",
   "nbconvert_exporter": "python",
   "pygments_lexer": "ipython3",
   "version": "3.13.1"
  },
  "orig_nbformat": 4
 },
 "nbformat": 4,
 "nbformat_minor": 2
}
